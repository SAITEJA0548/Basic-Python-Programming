{
  "nbformat": 4,
  "nbformat_minor": 0,
  "metadata": {
    "colab": {
      "provenance": [],
      "authorship_tag": "ABX9TyMGm7FiuXlMSGaiDPi7RGzY",
      "include_colab_link": true
    },
    "kernelspec": {
      "name": "python3",
      "display_name": "Python 3"
    },
    "language_info": {
      "name": "python"
    }
  },
  "cells": [
    {
      "cell_type": "markdown",
      "metadata": {
        "id": "view-in-github",
        "colab_type": "text"
      },
      "source": [
        "<a href=\"https://colab.research.google.com/github/SAITEJA0548/Basic-Python-Programming/blob/main/search_methods.ipynb\" target=\"_parent\"><img src=\"https://colab.research.google.com/assets/colab-badge.svg\" alt=\"Open In Colab\"/></a>"
      ]
    },
    {
      "cell_type": "code",
      "execution_count": 1,
      "metadata": {
        "colab": {
          "base_uri": "https://localhost:8080/"
        },
        "id": "KEMxGAPsRHkn",
        "outputId": "0537740d-7794-4823-d9c9-c9ee61f8d0c2"
      },
      "outputs": [
        {
          "output_type": "stream",
          "name": "stdout",
          "text": [
            "Enter your target in the given data: 453\n",
            "Target 453 found at index 5\n"
          ]
        }
      ],
      "source": [
        "# Binary search\n",
        "def binary_search(data, target):\n",
        "    lb = 0\n",
        "    ub = len(data) - 1\n",
        "    while lb <= ub:\n",
        "        mid = (lb + ub) // 2\n",
        "        if data[mid] == target:\n",
        "            print(f\"Target {target} found at index {mid}\")\n",
        "            return mid\n",
        "        elif data[mid] < target:\n",
        "            lb = mid + 1\n",
        "        else:\n",
        "            ub = mid - 1\n",
        "    return -1\n",
        "data = [24, 26, 27, 35, 245, 453]\n",
        "target = int(input(\"Enter your target in the given data: \"))\n",
        "result = binary_search(data, target)\n",
        "if result == -1:\n",
        "    print(\"Target not found.\")\n"
      ]
    },
    {
      "cell_type": "code",
      "source": [
        "# Linear search\n",
        "def linear_search(data, target):\n",
        "    for index, value in enumerate(data):\n",
        "        if value == target:\n",
        "            print(f\"Target {target} found at index {index}\")\n",
        "            return index\n",
        "    return -1\n",
        "data = [24, 35, 245, 453, 26, 27]\n",
        "target = int(input(\"Enter your target in the given data: \"))\n",
        "result = linear_search(data, target)\n",
        "if result == -1:\n",
        "    print(\"Target not found.\")\n"
      ],
      "metadata": {
        "colab": {
          "base_uri": "https://localhost:8080/"
        },
        "id": "bG0tOSbdRJs9",
        "outputId": "81d5e644-31bd-482d-b6ab-5e4e5626d8f3"
      },
      "execution_count": 2,
      "outputs": [
        {
          "output_type": "stream",
          "name": "stdout",
          "text": [
            "Enter your target in the given data: 26\n",
            "Target 26 found at index 4\n"
          ]
        }
      ]
    },
    {
      "cell_type": "code",
      "source": [],
      "metadata": {
        "id": "HecAxtNMROL1"
      },
      "execution_count": null,
      "outputs": []
    }
  ]
}