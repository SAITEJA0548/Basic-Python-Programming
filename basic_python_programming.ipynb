{
  "nbformat": 4,
  "nbformat_minor": 0,
  "metadata": {
    "colab": {
      "provenance": [],
      "authorship_tag": "ABX9TyP3A1UBBMxBinY/Jm6css9g",
      "include_colab_link": true
    },
    "kernelspec": {
      "name": "python3",
      "display_name": "Python 3"
    },
    "language_info": {
      "name": "python"
    }
  },
  "cells": [
    {
      "cell_type": "markdown",
      "metadata": {
        "id": "view-in-github",
        "colab_type": "text"
      },
      "source": [
        "<a href=\"https://colab.research.google.com/github/SAITEJA0548/Basic-Python-Programming/blob/main/basic_python_programming.ipynb\" target=\"_parent\"><img src=\"https://colab.research.google.com/assets/colab-badge.svg\" alt=\"Open In Colab\"/></a>"
      ]
    },
    {
      "cell_type": "code",
      "execution_count": 1,
      "metadata": {
        "colab": {
          "base_uri": "https://localhost:8080/"
        },
        "id": "p0PnS73yJ2oe",
        "outputId": "3873ed74-734b-4d4e-ec9d-5c87dadfbe14"
      },
      "outputs": [
        {
          "output_type": "stream",
          "name": "stdout",
          "text": [
            "saiteja\n"
          ]
        }
      ],
      "source": [
        "#print name\n",
        "print(\"saiteja\")"
      ]
    },
    {
      "cell_type": "code",
      "source": [
        "#using input fun\n",
        "s=input(\"enter your name\")\n",
        "print(s)"
      ],
      "metadata": {
        "colab": {
          "base_uri": "https://localhost:8080/"
        },
        "id": "8kPTYEbdM6J1",
        "outputId": "7e28651e-03a8-42f4-9b11-442e17405553"
      },
      "execution_count": 2,
      "outputs": [
        {
          "output_type": "stream",
          "name": "stdout",
          "text": [
            "enter your namesaiteja\n",
            "saiteja\n"
          ]
        }
      ]
    },
    {
      "cell_type": "code",
      "source": [
        "#print full name\n",
        "a=input(\"enter the first name\")\n",
        "b=input(\"enter the second name\")\n",
        "c=a+b\n",
        "print(c)"
      ],
      "metadata": {
        "colab": {
          "base_uri": "https://localhost:8080/"
        },
        "id": "zqcnVyfnNCMl",
        "outputId": "2de7f29d-e978-4962-d287-aafba458ec28"
      },
      "execution_count": 3,
      "outputs": [
        {
          "output_type": "stream",
          "name": "stdout",
          "text": [
            "enter the first namesai\n",
            "enter the second nameteja\n",
            "saiteja\n"
          ]
        }
      ]
    },
    {
      "cell_type": "code",
      "source": [
        "#sum of two numbers\n",
        "a=int(input(\"enter the first number\"))\n",
        "b=int(input(\"enter the second number\"))\n",
        "c=a+b\n",
        "c"
      ],
      "metadata": {
        "colab": {
          "base_uri": "https://localhost:8080/"
        },
        "id": "KL0BzSA5Nbu-",
        "outputId": "00a8c287-faf9-4137-ad42-97c4809cccb3"
      },
      "execution_count": 4,
      "outputs": [
        {
          "name": "stdout",
          "output_type": "stream",
          "text": [
            "enter the first number7\n",
            "enter the second number8\n"
          ]
        },
        {
          "output_type": "execute_result",
          "data": {
            "text/plain": [
              "15"
            ]
          },
          "metadata": {},
          "execution_count": 4
        }
      ]
    },
    {
      "cell_type": "code",
      "source": [
        "#swap two numbers without 3rd variable\n",
        "a=int(input(\"enter the first number\"))\n",
        "b=int(input(\"enter the second number\"))\n",
        "a=a+b\n",
        "b=a-b\n",
        "a=a-b\n",
        "print(a,b)"
      ],
      "metadata": {
        "colab": {
          "base_uri": "https://localhost:8080/"
        },
        "id": "WXR3UsPZNmLG",
        "outputId": "6fd92c71-2342-4c37-8349-bcef268cd2f4"
      },
      "execution_count": 5,
      "outputs": [
        {
          "output_type": "stream",
          "name": "stdout",
          "text": [
            "enter the first number5\n",
            "enter the second number7\n",
            "7 5\n"
          ]
        }
      ]
    },
    {
      "cell_type": "code",
      "source": [
        "#to print primitive datatypes\n",
        "a=5\n",
        "b=1.4\n",
        "c=True\n",
        "print(type(a))\n",
        "print(type(b))\n",
        "print(type(c))\n",
        ""
      ],
      "metadata": {
        "colab": {
          "base_uri": "https://localhost:8080/"
        },
        "id": "a6GG8ycDN2Ge",
        "outputId": "cb46ffae-de66-4aa6-9a71-95c1d164c65e"
      },
      "execution_count": 6,
      "outputs": [
        {
          "output_type": "stream",
          "name": "stdout",
          "text": [
            "<class 'int'>\n",
            "<class 'float'>\n",
            "<class 'bool'>\n"
          ]
        }
      ]
    },
    {
      "cell_type": "code",
      "source": [
        "#to print non-primitive datatypes\n",
        "a=(1,2,3)\n",
        "b=[1,2,3]\n",
        "c={1,2,3,4,5}\n",
        "d={1:\"a\",2:\"b\"}\n",
        "print(type(a))\n",
        "print(type(b))\n",
        "print(type(c))\n",
        "print(type(d))\n",
        ""
      ],
      "metadata": {
        "colab": {
          "base_uri": "https://localhost:8080/"
        },
        "id": "wmGwB1XJN2QW",
        "outputId": "ace85796-a5aa-477c-9e8c-11c60cd9b654"
      },
      "execution_count": 7,
      "outputs": [
        {
          "output_type": "stream",
          "name": "stdout",
          "text": [
            "<class 'tuple'>\n",
            "<class 'list'>\n",
            "<class 'set'>\n",
            "<class 'dict'>\n"
          ]
        }
      ]
    },
    {
      "cell_type": "code",
      "source": [
        "a=int(input(\"enter the number\"))\n",
        "print(a**2)"
      ],
      "metadata": {
        "colab": {
          "base_uri": "https://localhost:8080/"
        },
        "id": "zx6NfkjZN2VV",
        "outputId": "c47d4847-c331-4e98-a360-805c670e7655"
      },
      "execution_count": 8,
      "outputs": [
        {
          "output_type": "stream",
          "name": "stdout",
          "text": [
            "enter the number4\n",
            "16\n"
          ]
        }
      ]
    },
    {
      "cell_type": "code",
      "source": [
        "a=int(input(\"enter the first number\"))\n",
        "b=int(input(\"enter the second number\"))\n",
        "c=int(input(\"enter the third number\"))\n",
        "print((a+b+c)//3)"
      ],
      "metadata": {
        "colab": {
          "base_uri": "https://localhost:8080/"
        },
        "id": "pKD7AgjzN2YO",
        "outputId": "e74a6a16-79f4-4218-a16b-55af380d84e1"
      },
      "execution_count": 9,
      "outputs": [
        {
          "output_type": "stream",
          "name": "stdout",
          "text": [
            "enter the first number6\n",
            "enter the second number4\n",
            "enter the third number7\n",
            "5\n"
          ]
        }
      ]
    },
    {
      "cell_type": "code",
      "source": [
        "def tiffen_items():\n",
        "    print(\"Welcome to Tiffen Section\")\n",
        "    print(\"What type of Tiffen would you like?\")\n",
        "    print(\"1. Dosa\")\n",
        "    print(\"2. Idly\")\n",
        "    print(\"3. Puri\")\n",
        "    print(\"4. Bajji\")\n",
        "\n",
        "    a = int(input(\"Enter the Tiffen you would like (1-4): \"))\n",
        "\n",
        "    if a == 1:\n",
        "        price = 25\n",
        "        item = \"Dosa\"\n",
        "    elif a == 2:\n",
        "        price = 25\n",
        "        item = \"Idly\"\n",
        "    elif a == 3:\n",
        "        price = 30\n",
        "        item = \"Puri\"\n",
        "    elif a == 4:\n",
        "        price = 20\n",
        "        item = \"Bajji\"\n",
        "    else:\n",
        "        print(\"Invalid choice, please select between 1 and 4.\")\n",
        "        return\n",
        "\n",
        "    b = int(input(\"Enter the quantity you would like: \"))\n",
        "    bill = b * price\n",
        "    print(f\"Your bill for {b} {item}(s) is: Rs. {bill}\")\n",
        "\n",
        "# Call the function\n",
        "tiffen_items()\n"
      ],
      "metadata": {
        "colab": {
          "base_uri": "https://localhost:8080/"
        },
        "id": "qg0vScs-N2bV",
        "outputId": "60ae2827-04d6-4fca-b377-33d5a99bf7f9"
      },
      "execution_count": 31,
      "outputs": [
        {
          "output_type": "stream",
          "name": "stdout",
          "text": [
            "Welcome to Tiffen Section\n",
            "What type of Tiffen would you like?\n",
            "1. Dosa\n",
            "2. Idly\n",
            "3. Puri\n",
            "4. Bajji\n",
            "Enter the Tiffen you would like (1-4): 1\n",
            "Enter the quantity you would like: 6\n",
            "Your bill for 6 Dosa(s) is: Rs. 150\n"
          ]
        }
      ]
    },
    {
      "cell_type": "code",
      "source": [
        "# Program to multiply input by 10\n",
        "\n",
        "num = int(input(\"Enter a number: \"))\n",
        "result = num * 10\n",
        "print(\"Result after multiplying by 10:\", result)"
      ],
      "metadata": {
        "colab": {
          "base_uri": "https://localhost:8080/"
        },
        "id": "dmMcW20UN2eX",
        "outputId": "b0dce7aa-f625-4b3c-d9cf-37890c89fbaf"
      },
      "execution_count": 13,
      "outputs": [
        {
          "output_type": "stream",
          "name": "stdout",
          "text": [
            "Enter a number: 34\n",
            "Result after multiplying by 10: 340\n"
          ]
        }
      ]
    },
    {
      "cell_type": "code",
      "source": [
        "# Program to convert minutes to seconds\n",
        "\n",
        "minutes = int(input(\"Enter time in minutes: \"))\n",
        "seconds = minutes * 60\n",
        "print(minutes, \"minutes =\", seconds, \"seconds\")"
      ],
      "metadata": {
        "colab": {
          "base_uri": "https://localhost:8080/"
        },
        "id": "9DohSEhNN2g-",
        "outputId": "5ab4e5af-ba38-4b39-ae6d-dfdfd291982f"
      },
      "execution_count": 14,
      "outputs": [
        {
          "output_type": "stream",
          "name": "stdout",
          "text": [
            "Enter time in minutes: 65\n",
            "65 minutes = 3900 seconds\n"
          ]
        }
      ]
    },
    {
      "cell_type": "code",
      "source": [
        "# Program to find largest of three numbers\n",
        "\n",
        "a = float(input(\"Enter first number: \"))\n",
        "b = float(input(\"Enter second number: \"))\n",
        "c = float(input(\"Enter third number: \"))\n",
        "\n",
        "largest = max(a, b, c)\n",
        "print(\"The largest number is:\", largest)"
      ],
      "metadata": {
        "colab": {
          "base_uri": "https://localhost:8080/"
        },
        "id": "-jIJnTGrN2jY",
        "outputId": "76db1d85-fec6-409b-9cf3-26d79a2699f4"
      },
      "execution_count": 15,
      "outputs": [
        {
          "output_type": "stream",
          "name": "stdout",
          "text": [
            "Enter first number: 3\n",
            "Enter second number: 8\n",
            "Enter third number: 4\n",
            "The largest number is: 8.0\n"
          ]
        }
      ]
    },
    {
      "cell_type": "code",
      "source": [
        "# Program to find sum of first n natural, even, and odd numbers\n",
        "\n",
        "n = int(input(\"Enter a positive integer: \"))\n",
        "\n",
        "# Sum of first n natural numbers\n",
        "sum_natural = n * (n + 1) // 2\n",
        "\n",
        "# Sum of first n even numbers: 2 + 4 + 6 + ... + 2n = n(n+1)\n",
        "sum_even = n * (n + 1)\n",
        "\n",
        "# Sum of first n odd numbers: 1 + 3 + 5 + ... + (2n-1) = n^2\n",
        "sum_odd = n * n\n",
        "\n",
        "print(\"Sum of first\", n, \"natural numbers:\", sum_natural)\n",
        "print(\"Sum of first\", n, \"even numbers:\", sum_even)\n",
        "print(\"Sum of first\", n, \"odd numbers:\", sum_odd)"
      ],
      "metadata": {
        "colab": {
          "base_uri": "https://localhost:8080/"
        },
        "id": "azSbt-eXPf4p",
        "outputId": "6a12b814-3cd1-4a39-eb89-d2f302f805e7"
      },
      "execution_count": 18,
      "outputs": [
        {
          "output_type": "stream",
          "name": "stdout",
          "text": [
            "Enter a positive integer: 6\n",
            "Sum of first 6 natural numbers: 21\n",
            "Sum of first 6 even numbers: 42\n",
            "Sum of first 6 odd numbers: 36\n"
          ]
        }
      ]
    },
    {
      "cell_type": "code",
      "source": [
        "# Program to check if number is positive, negative or zero\n",
        "\n",
        "num = float(input(\"Enter a number: \"))\n",
        "\n",
        "if num > 0:\n",
        "    print(\"The number is Positive\")\n",
        "elif num < 0:\n",
        "    print(\"The number is Negative\")\n",
        "else:\n",
        "    print(\"The number is Zero\")"
      ],
      "metadata": {
        "colab": {
          "base_uri": "https://localhost:8080/"
        },
        "id": "OEWQoo3_Pf7Z",
        "outputId": "b4601696-1d37-4341-e6a6-ca99155b6e7c"
      },
      "execution_count": 19,
      "outputs": [
        {
          "output_type": "stream",
          "name": "stdout",
          "text": [
            "Enter a number: 5\n",
            "The number is Positive\n"
          ]
        }
      ]
    },
    {
      "cell_type": "code",
      "source": [
        "# Program to check odd or even\n",
        "\n",
        "num = int(input(\"Enter an integer: \"))\n",
        "\n",
        "if num % 2 == 0:\n",
        "    print(num, \"is Even\")\n",
        "else:\n",
        "    print(num, \"is Odd\")"
      ],
      "metadata": {
        "colab": {
          "base_uri": "https://localhost:8080/"
        },
        "id": "JPrNxiC4Pf9f",
        "outputId": "e7a48007-df33-4e8a-f061-5922336ce921"
      },
      "execution_count": 20,
      "outputs": [
        {
          "output_type": "stream",
          "name": "stdout",
          "text": [
            "Enter an integer: 8\n",
            "8 is Even\n"
          ]
        }
      ]
    },
    {
      "cell_type": "code",
      "source": [
        "# Program to check if number is divisible by 5 and 11\n",
        "\n",
        "num = int(input(\"Enter an integer: \"))\n",
        "\n",
        "if num % 5 == 0 and num % 11 == 0:\n",
        "    print(num, \"is divisible by both 5 and 11\")\n",
        "else:\n",
        "    print(num, \"is NOT divisible by both 5 and 11\")"
      ],
      "metadata": {
        "colab": {
          "base_uri": "https://localhost:8080/"
        },
        "id": "7DExHRx1Pf_k",
        "outputId": "8789421a-9597-48ae-dc99-0e26ef97acea"
      },
      "execution_count": 22,
      "outputs": [
        {
          "output_type": "stream",
          "name": "stdout",
          "text": [
            "Enter an integer: 55\n",
            "55 is divisible by both 5 and 11\n"
          ]
        }
      ]
    },
    {
      "cell_type": "code",
      "source": [
        "# Program to check grade using marks\n",
        "\n",
        "marks = int(input(\"Enter your marks (0-100): \"))\n",
        "\n",
        "if marks >= 90:\n",
        "    grade = \"A+\"\n",
        "elif marks >= 80:\n",
        "    grade = \"A\"\n",
        "elif marks >= 70:\n",
        "    grade = \"B\"\n",
        "elif marks >= 60:\n",
        "    grade = \"C\"\n",
        "elif marks >= 50:\n",
        "    grade = \"D\"\n",
        "elif marks >= 35:\n",
        "    grade = \"E\"\n",
        "else:\n",
        "    grade = \"F (Fail)\"\n",
        "\n",
        "print(\"Your Grade is:\", grade)"
      ],
      "metadata": {
        "colab": {
          "base_uri": "https://localhost:8080/"
        },
        "id": "4VdGBb8LPgBq",
        "outputId": "3b36e869-9e47-477d-e245-6a7a3a9c08c3"
      },
      "execution_count": 23,
      "outputs": [
        {
          "output_type": "stream",
          "name": "stdout",
          "text": [
            "Enter your marks (0-100): 99\n",
            "Your Grade is: A+\n"
          ]
        }
      ]
    },
    {
      "cell_type": "code",
      "source": [
        "# Program to check the day of the week\n",
        "\n",
        "day = int(input(\"Enter a number (1-7): \"))\n",
        "\n",
        "if day == 1:\n",
        "    print(\"Sunday\")\n",
        "elif day == 2:\n",
        "    print(\"Monday\")\n",
        "elif day == 3:\n",
        "    print(\"Tuesday\")\n",
        "elif day == 4:\n",
        "    print(\"Wednesday\")\n",
        "elif day == 5:\n",
        "    print(\"Thursday\")\n",
        "elif day == 6:\n",
        "    print(\"Friday\")\n",
        "elif day == 7:\n",
        "    print(\"Saturday\")\n",
        "else:\n",
        "    print(\"Invalid input! Please enter a number between 1 and 7.\")"
      ],
      "metadata": {
        "colab": {
          "base_uri": "https://localhost:8080/"
        },
        "id": "_muF5SoCPgDp",
        "outputId": "9d936f88-0057-4eec-9003-6700cfe71f77"
      },
      "execution_count": 24,
      "outputs": [
        {
          "output_type": "stream",
          "name": "stdout",
          "text": [
            "Enter a number (1-7): 5\n",
            "Thursday\n"
          ]
        }
      ]
    },
    {
      "cell_type": "code",
      "source": [
        "# simple credential check\n",
        "username = input(\"Enter username: \")\n",
        "password = input(\"Enter password: \")\n",
        "\n",
        "# hardcoded credentials\n",
        "correct_user = \"admin\"\n",
        "correct_pass = \"password123\"\n",
        "\n",
        "if username == correct_user and password == correct_pass:\n",
        "    print(\"Login successful ✅\")\n",
        "else:\n",
        "    print(\"Login failed — invalid username or password ❌\")"
      ],
      "metadata": {
        "colab": {
          "base_uri": "https://localhost:8080/"
        },
        "id": "bTFk_PAgPgFj",
        "outputId": "c144924d-4542-4fe2-97d7-9a2eacc9aa15"
      },
      "execution_count": 25,
      "outputs": [
        {
          "output_type": "stream",
          "name": "stdout",
          "text": [
            "Enter username: admin\n",
            "Enter password: password123\n",
            "Login successful ✅\n"
          ]
        }
      ]
    },
    {
      "cell_type": "code",
      "source": [
        "# Simple Arithmetic Program\n",
        "\n",
        "a = int(input(\"Enter first number: \"))\n",
        "b = int(input(\"Enter second number: \"))\n",
        "\n",
        "print(\"Addition:\", a + b)\n",
        "print(\"Subtraction:\", a - b)\n",
        "print(\"Multiplication:\", a * b)\n",
        "print(\"Division:\", a / b)"
      ],
      "metadata": {
        "colab": {
          "base_uri": "https://localhost:8080/"
        },
        "id": "pCZWCMKGPgHl",
        "outputId": "1cd704ad-3738-4f8c-de6f-5996066ef6ae"
      },
      "execution_count": 26,
      "outputs": [
        {
          "output_type": "stream",
          "name": "stdout",
          "text": [
            "Enter first number: 3\n",
            "Enter second number: 4\n",
            "Addition: 7\n",
            "Subtraction: -1\n",
            "Multiplication: 12\n",
            "Division: 0.75\n"
          ]
        }
      ]
    },
    {
      "cell_type": "code",
      "source": [
        "# Program to check number of days in a month\n",
        "\n",
        "month = int(input(\"Enter month number (1-12): \"))\n",
        "\n",
        "if month == 1 or month == 3 or month == 5 or month == 7 or month == 8 or month == 10 or month == 12:\n",
        "    print(\"31 days\")\n",
        "elif month == 4 or month == 6 or month == 9 or month == 11:\n",
        "    print(\"30 days\")\n",
        "elif month == 2:\n",
        "    print(\"28 or 29 days (February)\")\n",
        "else:\n",
        "    print(\"Invalid month number! Please enter between 1 and 12.\")"
      ],
      "metadata": {
        "colab": {
          "base_uri": "https://localhost:8080/"
        },
        "id": "VOkjcavxPgJc",
        "outputId": "6a5e0f27-a999-4dcf-d866-b62e47bc9ed6"
      },
      "execution_count": 28,
      "outputs": [
        {
          "output_type": "stream",
          "name": "stdout",
          "text": [
            "Enter month number (1-12): 9\n",
            "30 days\n"
          ]
        }
      ]
    },
    {
      "cell_type": "code",
      "source": [
        "# Program to check body temperature\n",
        "\n",
        "temp = float(input(\"Enter your body temperature in °C: \"))\n",
        "\n",
        "if temp >= 37.5:\n",
        "    print(\"You have Fever 🤒\")\n",
        "elif 36.0 <= temp < 37.5:\n",
        "    print(\"Your temperature is Normal 🙂\")\n",
        "else:\n",
        "    print(\"You feel Cold 🥶\")"
      ],
      "metadata": {
        "colab": {
          "base_uri": "https://localhost:8080/"
        },
        "id": "l9P0YMSMPgNa",
        "outputId": "33b7df78-d3d6-4ef4-9668-0fdd25bcdd7b"
      },
      "execution_count": 29,
      "outputs": [
        {
          "output_type": "stream",
          "name": "stdout",
          "text": [
            "Enter your body temperature in °C: 37\n",
            "Your temperature is Normal 🙂\n"
          ]
        }
      ]
    },
    {
      "cell_type": "code",
      "source": [],
      "metadata": {
        "id": "XCs69HCASOzn"
      },
      "execution_count": null,
      "outputs": []
    },
    {
      "cell_type": "code",
      "source": [],
      "metadata": {
        "id": "q1ANuHa-SO4I"
      },
      "execution_count": null,
      "outputs": []
    },
    {
      "cell_type": "code",
      "source": [],
      "metadata": {
        "id": "1pDPyaO8SO6_"
      },
      "execution_count": null,
      "outputs": []
    },
    {
      "cell_type": "code",
      "source": [],
      "metadata": {
        "id": "iXS6rlu6SO9X"
      },
      "execution_count": null,
      "outputs": []
    },
    {
      "cell_type": "code",
      "source": [],
      "metadata": {
        "id": "fH1PHFXoSO_o"
      },
      "execution_count": null,
      "outputs": []
    },
    {
      "cell_type": "code",
      "source": [],
      "metadata": {
        "id": "nwQ39_DFSPBQ"
      },
      "execution_count": null,
      "outputs": []
    },
    {
      "cell_type": "code",
      "source": [],
      "metadata": {
        "id": "zrvfMqPgSPDa"
      },
      "execution_count": null,
      "outputs": []
    },
    {
      "cell_type": "code",
      "source": [],
      "metadata": {
        "id": "AaFLA15xSPHR"
      },
      "execution_count": null,
      "outputs": []
    },
    {
      "cell_type": "code",
      "source": [],
      "metadata": {
        "id": "q1bXmqHJSPJ5"
      },
      "execution_count": null,
      "outputs": []
    }
  ]
}